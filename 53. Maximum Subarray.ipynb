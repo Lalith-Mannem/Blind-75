{
 "cells": [
  {
   "cell_type": "code",
   "execution_count": null,
   "id": "128c7c3d",
   "metadata": {},
   "outputs": [],
   "source": [
    "class Solution:\n",
    "    def maxSubArray(self, nums: List[int]) -> int:\n",
    "        max_sum = nums[0]\n",
    "        current_sum = 0\n",
    "        \n",
    "        for i in range(len(nums)):\n",
    "            if current_sum < 0:\n",
    "                current_sum = 0\n",
    "            current_sum += nums[i]\n",
    "            max_sum = max(max_sum, current_sum)\n",
    "        return max_sum"
   ]
  }
 ],
 "metadata": {
  "kernelspec": {
   "display_name": "Python 3 (ipykernel)",
   "language": "python",
   "name": "python3"
  },
  "language_info": {
   "codemirror_mode": {
    "name": "ipython",
    "version": 3
   },
   "file_extension": ".py",
   "mimetype": "text/x-python",
   "name": "python",
   "nbconvert_exporter": "python",
   "pygments_lexer": "ipython3",
   "version": "3.9.7"
  }
 },
 "nbformat": 4,
 "nbformat_minor": 5
}
