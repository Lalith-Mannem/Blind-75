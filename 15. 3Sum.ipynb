{
 "cells": [
  {
   "cell_type": "code",
   "execution_count": null,
   "id": "fa9a0d97",
   "metadata": {},
   "outputs": [],
   "source": [
    "class Solution:\n",
    "    def threeSum(self, nums: List[int]) -> List[List[int]]:\n",
    "        output = []\n",
    "        nums.sort()\n",
    "        for i in range(len(nums)):\n",
    "            if i > 0 and nums[i] == nums[i-1]:\n",
    "                continue\n",
    "            l , r = i+1, len(nums)-1\n",
    "            while l < r:\n",
    "                threesum = nums[i] + nums[l] + nums[r]\n",
    "                if threesum == 0:\n",
    "                    output.append([nums[i], nums[l], nums[r]])\n",
    "                    l += 1\n",
    "                    while nums[l] == nums[l-1] and l < r:\n",
    "                        l += 1\n",
    "                elif threesum < 0:\n",
    "                    l += 1\n",
    "                else:\n",
    "                    r -= 1\n",
    "        return output"
   ]
  }
 ],
 "metadata": {
  "kernelspec": {
   "display_name": "Python 3 (ipykernel)",
   "language": "python",
   "name": "python3"
  },
  "language_info": {
   "codemirror_mode": {
    "name": "ipython",
    "version": 3
   },
   "file_extension": ".py",
   "mimetype": "text/x-python",
   "name": "python",
   "nbconvert_exporter": "python",
   "pygments_lexer": "ipython3",
   "version": "3.9.7"
  }
 },
 "nbformat": 4,
 "nbformat_minor": 5
}
