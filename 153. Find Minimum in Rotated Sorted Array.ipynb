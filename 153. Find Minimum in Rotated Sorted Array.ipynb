{
 "cells": [
  {
   "cell_type": "code",
   "execution_count": null,
   "id": "a8aaebba",
   "metadata": {},
   "outputs": [],
   "source": [
    "class Solution:\n",
    "    def findMin(self, nums: List[int]) -> int:\n",
    "        l , r = 0, len(nums)-1\n",
    "        while l <= r:\n",
    "            m = l + (r-l)//2\n",
    "            if (m == 0 or nums[m] < nums[m-1]) and (m == len(nums)-1 or nums[m+1] > nums[m]):\n",
    "                return nums[m]\n",
    "            elif nums[m] <= nums[r]:\n",
    "                r = m - 1\n",
    "            else:\n",
    "                l = m + 1\n",
    "        return\n",
    "        "
   ]
  }
 ],
 "metadata": {
  "kernelspec": {
   "display_name": "Python 3 (ipykernel)",
   "language": "python",
   "name": "python3"
  },
  "language_info": {
   "codemirror_mode": {
    "name": "ipython",
    "version": 3
   },
   "file_extension": ".py",
   "mimetype": "text/x-python",
   "name": "python",
   "nbconvert_exporter": "python",
   "pygments_lexer": "ipython3",
   "version": "3.9.7"
  }
 },
 "nbformat": 4,
 "nbformat_minor": 5
}
