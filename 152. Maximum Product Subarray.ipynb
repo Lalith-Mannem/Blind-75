{
 "cells": [
  {
   "cell_type": "code",
   "execution_count": null,
   "id": "d4f41a06",
   "metadata": {},
   "outputs": [],
   "source": [
    "class Solution:\n",
    "    def maxProduct(self, nums: List[int]) -> int:\n",
    "        res = max(nums)\n",
    "        cur_min, cur_max = 1, 1\n",
    "        \n",
    "        for i in range(len(nums)):\n",
    "            if nums[i] == 0:\n",
    "                cur_min, cur_max = 1, 1\n",
    "                continue\n",
    "            mintemp = cur_min*nums[i]\n",
    "            maxtemp = cur_max*nums[i]\n",
    "            cur_min = min(maxtemp, mintemp, nums[i])\n",
    "            cur_max = max(maxtemp, mintemp, nums[i])\n",
    "            res = max(res, cur_max, cur_min)\n",
    "        return res\n",
    "        "
   ]
  }
 ],
 "metadata": {
  "kernelspec": {
   "display_name": "Python 3 (ipykernel)",
   "language": "python",
   "name": "python3"
  },
  "language_info": {
   "codemirror_mode": {
    "name": "ipython",
    "version": 3
   },
   "file_extension": ".py",
   "mimetype": "text/x-python",
   "name": "python",
   "nbconvert_exporter": "python",
   "pygments_lexer": "ipython3",
   "version": "3.9.7"
  }
 },
 "nbformat": 4,
 "nbformat_minor": 5
}
