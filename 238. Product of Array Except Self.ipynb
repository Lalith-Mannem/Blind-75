{
 "cells": [
  {
   "cell_type": "code",
   "execution_count": null,
   "id": "a8fc5632",
   "metadata": {},
   "outputs": [],
   "source": [
    "class Solution:\n",
    "    def productExceptSelf(self, nums: List[int]) -> List[int]:\n",
    "        rs = 1\n",
    "        output = [1]*len(nums)\n",
    "        for i in range(1, len(nums)):\n",
    "            output[i] = output[i-1] * nums[i-1]\n",
    "            \n",
    "        for i in range(len(nums)-1, -1, -1):\n",
    "            output[i] = output[i] * rs\n",
    "            rs = rs * nums[i]\n",
    "        return output\n"
   ]
  }
 ],
 "metadata": {
  "kernelspec": {
   "display_name": "Python 3 (ipykernel)",
   "language": "python",
   "name": "python3"
  },
  "language_info": {
   "codemirror_mode": {
    "name": "ipython",
    "version": 3
   },
   "file_extension": ".py",
   "mimetype": "text/x-python",
   "name": "python",
   "nbconvert_exporter": "python",
   "pygments_lexer": "ipython3",
   "version": "3.9.7"
  }
 },
 "nbformat": 4,
 "nbformat_minor": 5
}
